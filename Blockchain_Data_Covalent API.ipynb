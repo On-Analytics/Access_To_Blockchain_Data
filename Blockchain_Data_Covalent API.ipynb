{
 "cells": [
  {
   "cell_type": "markdown",
   "id": "bb6c7d83-7a07-44f6-9756-76d7d0397a89",
   "metadata": {
    "tags": []
   },
   "source": [
    "# Exploring Blockchain Data using the Covalent API"
   ]
  },
  {
   "cell_type": "markdown",
   "id": "8a5479e2-da22-4608-9b22-f66818018971",
   "metadata": {
    "tags": []
   },
   "source": [
    "- Last Update: 16/11/2023\n",
    "- Blockchain: Binance Smart Chain\n",
    "- API use: [Covalent](https://www.covalenthq.com/docs/api/)"
   ]
  },
  {
   "cell_type": "markdown",
   "id": "eb0f302f-ed39-4c4f-9901-0a3132fadca5",
   "metadata": {
    "tags": []
   },
   "source": [
    "- Author: Oscar Q - Founder OnAnalytics\n",
    "- [Linkedin](https://www.linkedin.com/in/oscarquirogap/)\n",
    "- [WebPage](http://onanalytics.co/)\n",
    "- [GitHub](https://github.com/On-Analytics/Access_To_Blockchain_Data.git)"
   ]
  },
  {
   "cell_type": "markdown",
   "id": "a6a99470-7672-4744-87d9-862d640b2c4c",
   "metadata": {
    "tags": []
   },
   "source": [
    "## Introduction"
   ]
  },
  {
   "cell_type": "markdown",
   "id": "27c88674-c26b-49d7-85d7-1ff84bd6653c",
   "metadata": {},
   "source": [
    "We intend to utilize the Covalent API, which yields a JSON response that we subsequently transform into a dataframe. We navigate through the data by scrutinizing specific columns and constructing various data frames. This approach serves as a means not only to grasp the process of transforming a JSON response into a dataframe but also to acquaint ourselves with the data associated with the 'get block' endpoint."
   ]
  },
  {
   "cell_type": "markdown",
   "id": "c3c577ed-3adf-4105-a2e5-a27adbc930f4",
   "metadata": {
    "tags": []
   },
   "source": [
    "## Setting Up"
   ]
  },
  {
   "cell_type": "markdown",
   "id": "409bc648-56c3-40c0-ae84-048b875e6434",
   "metadata": {},
   "source": [
    "**Instalations**"
   ]
  },
  {
   "cell_type": "code",
   "execution_count": null,
   "id": "0f3316f7-6dd4-4c4e-9e5e-d076bed0a439",
   "metadata": {
    "tags": []
   },
   "outputs": [],
   "source": [
    "!python -m pip install requests\n",
    "!pip install --upgrade pip\n",
    "!pip3 install covalent-api-sdk\n",
    "!pip install python-dotenv"
   ]
  },
  {
   "cell_type": "markdown",
   "id": "20635a7a-56c1-458d-9c6f-c1afb2ec3879",
   "metadata": {
    "tags": []
   },
   "source": [
    "**Import Libraries**"
   ]
  },
  {
   "cell_type": "code",
   "execution_count": 46,
   "id": "9f0b6631-14ae-4d97-bcd3-7f05cba0ed4c",
   "metadata": {
    "tags": []
   },
   "outputs": [],
   "source": [
    "import requests\n",
    "from requests.auth import HTTPBasicAuth\n",
    "import pandas as pd\n",
    "import json\n",
    "from datetime import datetime\n",
    "import os\n",
    "import dotenv\n",
    "from dotenv import load_dotenv"
   ]
  },
  {
   "cell_type": "markdown",
   "id": "cd4b5a69-ae1c-4eba-a064-916702246335",
   "metadata": {
    "tags": []
   },
   "source": [
    "**Environment setup**"
   ]
  },
  {
   "cell_type": "markdown",
   "id": "934bf816-4821-47f6-a699-271a3e311b8e",
   "metadata": {
    "tags": []
   },
   "source": [
    "By placing your API key in a .env file and loading it into your Python script, you can keep sensitive information separate from your code, which is a good practice for security and configuration management."
   ]
  },
  {
   "cell_type": "code",
   "execution_count": 118,
   "id": "d5a70e20-d98d-4a62-aedd-0308b62044b4",
   "metadata": {
    "tags": []
   },
   "outputs": [],
   "source": [
    "# If you need, change the current working directory where .env file lives.\n",
    "os.chdir(\"/Users/Oscar/Documents/Python/Covalent\")"
   ]
  },
  {
   "cell_type": "code",
   "execution_count": 119,
   "id": "0dab422b-f86e-48a2-bec7-e0814e628214",
   "metadata": {
    "tags": []
   },
   "outputs": [
    {
     "data": {
      "text/plain": [
       "True"
      ]
     },
     "execution_count": 119,
     "metadata": {},
     "output_type": "execute_result"
    }
   ],
   "source": [
    "# load environment variables from .env\n",
    "dotenv.load_dotenv(\".env\")"
   ]
  },
  {
   "cell_type": "code",
   "execution_count": 120,
   "id": "40dc4f0f-40f6-47d8-a0d2-259427d1cc92",
   "metadata": {
    "tags": []
   },
   "outputs": [],
   "source": [
    "# Get the API key from the environment variable\n",
    "api_key = os.getenv(\"API_KEY\")"
   ]
  },
  {
   "cell_type": "code",
   "execution_count": 121,
   "id": "1ac7c643-66e8-4790-8bd8-a6a887cf4901",
   "metadata": {
    "tags": []
   },
   "outputs": [],
   "source": [
    "# Check if the API key is available\n",
    "if not api_key:\n",
    "    raise ValueError(\"API_KEY not found in environment variables\")"
   ]
  },
  {
   "cell_type": "markdown",
   "id": "501a696b-3fa4-4151-9c72-e7a0664a2a01",
   "metadata": {
    "tags": []
   },
   "source": [
    "## Block Height"
   ]
  },
  {
   "cell_type": "markdown",
   "id": "d210b067-08f5-4337-90f9-8e04d69a78a8",
   "metadata": {},
   "source": [
    "The number of blocks in a blockchain, often referred to as the blockchain's \"block height,\" indicates how many blocks have been added to the blockchain since its inception or the last reset. Each block in a blockchain typically contains a batch of transactions and references the previous block, forming a chronological and immutable chain of blocks. Some considerations:\n",
    "\n",
    "- The number of blocks shows the progress of the blockchain, indicating how far it has advanced from its genesis block. Each new block adds to the chain, demonstrating the ongoing operation of the blockchain network.\n",
    "\n",
    "- A higher number of blocks generally indicates a more secure and tamper-resistant blockchain. As more blocks are added, it becomes increasingly difficult to alter or manipulate transactions in earlier blocks, as doing so would require changing all subsequent blocks.\n",
    "\n",
    "This time we are using the endpoint get block to get some basic data about the block. "
   ]
  },
  {
   "cell_type": "markdown",
   "id": "abdf1778-2849-466e-9bf4-e3611cf3a878",
   "metadata": {
    "tags": []
   },
   "source": [
    "**Using the Covalent API to make our request**"
   ]
  },
  {
   "cell_type": "markdown",
   "id": "5c3011fe-4328-4d1c-a0de-66a35ccfa932",
   "metadata": {
    "tags": []
   },
   "source": [
    "- **Url**: This sets up the URL for the Covalent API endpoint for Ethereum mainnet block information.  The url format is https://api.covalenthq.com/v1/{chainName}/block_v2/{blockHeight}/\n",
    "- **Headers**: The accept header specifies that the client (your code) can handle a response in JSON format.\n",
    "- **HTTPBasic Auth class** from the requests library to set up basic authentication. It expects an API key, and an empty string is provided as the password. \n",
    "- You should replace 'api_key' with your actual Covalent API key.\n",
    "- **HTTP GET** request to the specified Covalent API endpoint (url) with the provided headers and authentication. \n",
    "- **Response** from the API is stored in the response variable."
   ]
  },
  {
   "cell_type": "code",
   "execution_count": 123,
   "id": "e7ffbbee-6435-444d-9c11-216cf1bf170e",
   "metadata": {
    "tags": []
   },
   "outputs": [
    {
     "name": "stdout",
     "output_type": "stream",
     "text": [
      "{\"data\":{\"updated_at\":\"2023-11-22T22:10:57.405674753Z\",\"chain_id\":56,\"chain_name\":\"bsc-mainnet\",\"items\":[{\"signed_at\":\"2020-08-29T03:24:09Z\",\"height\":1}],\"pagination\":null},\"error\":false,\"error_message\":null,\"error_code\":null}\n"
     ]
    }
   ],
   "source": [
    "# {chainName} in this case is bsc-mainnet and  {blockHeight} is 1, because we want to get the first block (genesis block).  You can use other blocknumber.\n",
    "url = \"https://api.covalenthq.com/v1/bsc-mainnet/block_v2/1/\"\n",
    "headers = {\n",
    "    \"accept\": \"application/json\",\n",
    "}\n",
    "basic = HTTPBasicAuth('api_key', '')   \n",
    "response = requests.get(url, headers=headers, auth=basic)\n",
    "print(response.text)"
   ]
  },
  {
   "cell_type": "markdown",
   "id": "b257611c-4e53-41e9-a987-1ec4747017d9",
   "metadata": {},
   "source": [
    "**Description of the response**"
   ]
  },
  {
   "cell_type": "markdown",
   "id": "99065858-6a0c-4974-9f3e-b7a536d0c319",
   "metadata": {
    "tags": []
   },
   "source": [
    "The JSON data is the response from an API, it is related with the block data of the first produced in the Ethereum Blockchain.   related to blockchain or cryptocurrency information, specifically for the Ethereum mainnet (chain_id: 1). Let's break down the key components of the JSON structure:\n",
    "\n",
    "**Data Section**\n",
    "\n",
    "- updated_at: Indicates the timestamp when the data was last updated. In this case, it is \"2013-11-10T15:22:56.652466545Z.\"\n",
    "- chain_id: Represents the identifier for the blockchain, and in this instance, it is set to 1.\n",
    "- chain_name: Specifies the name of the blockchain, which is \"bsc-mainnet\" for the binance smart chain main network.\n",
    "- items: Contains an array with, signed_at: Indicates the timestamp when the block or event was signed. In the provided example, it is \"2015-07-30T15:26:28Z.\" and height: Represents the height of the block or event. In this case, the height is 1.\n",
    "\n",
    "**Pagination Section**\n",
    "\n",
    "- pagination: Appears to be null, indicating that there is no pagination information provided in this response.\n",
    "\n",
    "**Error Handling:**\n",
    "\n",
    "- error: Indicates whether an error occurred. In this case, it is set to false, suggesting that the request was successful.\n",
    "- error_message: If an error occurred, this field would contain a message describing the error. In this example, it is null.\n",
    "- error_code: Similarly, if an error occurred, this field would contain a specific error code. In this case, it is also null."
   ]
  },
  {
   "cell_type": "code",
   "execution_count": 100,
   "id": "87f11566-b79b-44ad-bb8a-1cdce629b508",
   "metadata": {
    "tags": []
   },
   "outputs": [
    {
     "name": "stdout",
     "output_type": "stream",
     "text": [
      "<class 'dict'>\n",
      "{'data': {'updated_at': '2023-11-20T18:03:16.980284701Z', 'chain_id': 56, 'chain_name': 'bsc-mainnet', 'items': [{'signed_at': '2020-08-29T03:24:09Z', 'height': 1}], 'pagination': None}, 'error': False, 'error_message': None, 'error_code': None}\n"
     ]
    }
   ],
   "source": [
    "# Parse JSON data\n",
    "parse_data = json.loads(response.text)\n",
    "#Checking type of parse_data\n",
    "print(type(parse_data)) \n",
    "print(parse_data)"
   ]
  },
  {
   "cell_type": "markdown",
   "id": "310c4abb-fc01-48da-96d5-73ccba817ca8",
   "metadata": {
    "tags": []
   },
   "source": [
    "Let´s Check parse_data"
   ]
  },
  {
   "cell_type": "code",
   "execution_count": 117,
   "id": "d425556f-a1cd-4e0d-82bc-a728a09172a0",
   "metadata": {
    "tags": []
   },
   "outputs": [
    {
     "data": {
      "text/html": [
       "<div>\n",
       "<style scoped>\n",
       "    .dataframe tbody tr th:only-of-type {\n",
       "        vertical-align: middle;\n",
       "    }\n",
       "\n",
       "    .dataframe tbody tr th {\n",
       "        vertical-align: top;\n",
       "    }\n",
       "\n",
       "    .dataframe thead th {\n",
       "        text-align: right;\n",
       "    }\n",
       "</style>\n",
       "<table border=\"1\" class=\"dataframe\">\n",
       "  <thead>\n",
       "    <tr style=\"text-align: right;\">\n",
       "      <th></th>\n",
       "      <th>data</th>\n",
       "      <th>error</th>\n",
       "      <th>error_message</th>\n",
       "      <th>error_code</th>\n",
       "    </tr>\n",
       "  </thead>\n",
       "  <tbody>\n",
       "    <tr>\n",
       "      <th>chain_id</th>\n",
       "      <td>56</td>\n",
       "      <td>False</td>\n",
       "      <td>None</td>\n",
       "      <td>None</td>\n",
       "    </tr>\n",
       "    <tr>\n",
       "      <th>chain_name</th>\n",
       "      <td>bsc-mainnet</td>\n",
       "      <td>False</td>\n",
       "      <td>None</td>\n",
       "      <td>None</td>\n",
       "    </tr>\n",
       "    <tr>\n",
       "      <th>items</th>\n",
       "      <td>[{'signed_at': '2020-08-29T03:24:09Z', 'height...</td>\n",
       "      <td>False</td>\n",
       "      <td>None</td>\n",
       "      <td>None</td>\n",
       "    </tr>\n",
       "    <tr>\n",
       "      <th>pagination</th>\n",
       "      <td>None</td>\n",
       "      <td>False</td>\n",
       "      <td>None</td>\n",
       "      <td>None</td>\n",
       "    </tr>\n",
       "    <tr>\n",
       "      <th>updated_at</th>\n",
       "      <td>2023-11-20T18:03:16.980284701Z</td>\n",
       "      <td>False</td>\n",
       "      <td>None</td>\n",
       "      <td>None</td>\n",
       "    </tr>\n",
       "  </tbody>\n",
       "</table>\n",
       "</div>"
      ],
      "text/plain": [
       "                                                         data  error   \n",
       "chain_id                                                   56  False  \\\n",
       "chain_name                                        bsc-mainnet  False   \n",
       "items       [{'signed_at': '2020-08-29T03:24:09Z', 'height...  False   \n",
       "pagination                                               None  False   \n",
       "updated_at                     2023-11-20T18:03:16.980284701Z  False   \n",
       "\n",
       "           error_message error_code  \n",
       "chain_id            None       None  \n",
       "chain_name          None       None  \n",
       "items               None       None  \n",
       "pagination          None       None  \n",
       "updated_at          None       None  "
      ]
     },
     "execution_count": 117,
     "metadata": {},
     "output_type": "execute_result"
    }
   ],
   "source": [
    "df = pd.DataFrame(parse_data)\n",
    "df.head()"
   ]
  },
  {
   "cell_type": "code",
   "execution_count": 102,
   "id": "6a9091d6-c45f-42d9-9fd5-8096495a5b30",
   "metadata": {
    "tags": []
   },
   "outputs": [],
   "source": [
    "# We can Flatten the entire JSON structure using pd.json_normalize\n",
    "flattened_data = pd.json_normalize(parse_data,sep='_')"
   ]
  },
  {
   "cell_type": "code",
   "execution_count": 103,
   "id": "f701964e-8ee0-4324-9847-68cc6f8ccf44",
   "metadata": {
    "tags": []
   },
   "outputs": [
    {
     "name": "stdout",
     "output_type": "stream",
     "text": [
      "<class 'pandas.core.frame.DataFrame'>\n",
      "RangeIndex: 1 entries, 0 to 0\n",
      "Data columns (total 8 columns):\n",
      " #   Column           Non-Null Count  Dtype \n",
      "---  ------           --------------  ----- \n",
      " 0   error            1 non-null      bool  \n",
      " 1   error_message    0 non-null      object\n",
      " 2   error_code       0 non-null      object\n",
      " 3   data_updated_at  1 non-null      object\n",
      " 4   data_chain_id    1 non-null      int64 \n",
      " 5   data_chain_name  1 non-null      object\n",
      " 6   data_items       1 non-null      object\n",
      " 7   data_pagination  0 non-null      object\n",
      "dtypes: bool(1), int64(1), object(6)\n",
      "memory usage: 185.0+ bytes\n"
     ]
    }
   ],
   "source": [
    "flattened_data.info()"
   ]
  },
  {
   "cell_type": "code",
   "execution_count": 104,
   "id": "c9ff8010-f055-4bb4-ac24-f40ab0570388",
   "metadata": {
    "tags": []
   },
   "outputs": [
    {
     "data": {
      "text/html": [
       "<div>\n",
       "<style scoped>\n",
       "    .dataframe tbody tr th:only-of-type {\n",
       "        vertical-align: middle;\n",
       "    }\n",
       "\n",
       "    .dataframe tbody tr th {\n",
       "        vertical-align: top;\n",
       "    }\n",
       "\n",
       "    .dataframe thead th {\n",
       "        text-align: right;\n",
       "    }\n",
       "</style>\n",
       "<table border=\"1\" class=\"dataframe\">\n",
       "  <thead>\n",
       "    <tr style=\"text-align: right;\">\n",
       "      <th></th>\n",
       "      <th>error</th>\n",
       "      <th>error_message</th>\n",
       "      <th>error_code</th>\n",
       "      <th>data_updated_at</th>\n",
       "      <th>data_chain_id</th>\n",
       "      <th>data_chain_name</th>\n",
       "      <th>data_items</th>\n",
       "      <th>data_pagination</th>\n",
       "    </tr>\n",
       "  </thead>\n",
       "  <tbody>\n",
       "    <tr>\n",
       "      <th>0</th>\n",
       "      <td>False</td>\n",
       "      <td>None</td>\n",
       "      <td>None</td>\n",
       "      <td>2023-11-20T18:03:16.980284701Z</td>\n",
       "      <td>56</td>\n",
       "      <td>bsc-mainnet</td>\n",
       "      <td>[{'signed_at': '2020-08-29T03:24:09Z', 'height...</td>\n",
       "      <td>None</td>\n",
       "    </tr>\n",
       "  </tbody>\n",
       "</table>\n",
       "</div>"
      ],
      "text/plain": [
       "   error error_message error_code                 data_updated_at   \n",
       "0  False          None       None  2023-11-20T18:03:16.980284701Z  \\\n",
       "\n",
       "   data_chain_id data_chain_name   \n",
       "0             56     bsc-mainnet  \\\n",
       "\n",
       "                                          data_items data_pagination  \n",
       "0  [{'signed_at': '2020-08-29T03:24:09Z', 'height...            None  "
      ]
     },
     "execution_count": 104,
     "metadata": {},
     "output_type": "execute_result"
    }
   ],
   "source": [
    "flattened_data.head()"
   ]
  },
  {
   "cell_type": "markdown",
   "id": "1bd98da1-7c18-4dfa-b175-11d379ce0647",
   "metadata": {},
   "source": [
    "Let´s check 'data' data frame"
   ]
  },
  {
   "cell_type": "code",
   "execution_count": 107,
   "id": "e8f91aa7-7d36-4262-bd36-41bd3e1bf511",
   "metadata": {
    "tags": []
   },
   "outputs": [
    {
     "data": {
      "text/html": [
       "<div>\n",
       "<style scoped>\n",
       "    .dataframe tbody tr th:only-of-type {\n",
       "        vertical-align: middle;\n",
       "    }\n",
       "\n",
       "    .dataframe tbody tr th {\n",
       "        vertical-align: top;\n",
       "    }\n",
       "\n",
       "    .dataframe thead th {\n",
       "        text-align: right;\n",
       "    }\n",
       "</style>\n",
       "<table border=\"1\" class=\"dataframe\">\n",
       "  <thead>\n",
       "    <tr style=\"text-align: right;\">\n",
       "      <th></th>\n",
       "      <th>updated_at</th>\n",
       "      <th>chain_id</th>\n",
       "      <th>chain_name</th>\n",
       "      <th>items</th>\n",
       "      <th>pagination</th>\n",
       "    </tr>\n",
       "  </thead>\n",
       "  <tbody>\n",
       "    <tr>\n",
       "      <th>0</th>\n",
       "      <td>2023-11-20T18:03:16.980284701Z</td>\n",
       "      <td>56</td>\n",
       "      <td>bsc-mainnet</td>\n",
       "      <td>[{'signed_at': '2020-08-29T03:24:09Z', 'height...</td>\n",
       "      <td>None</td>\n",
       "    </tr>\n",
       "  </tbody>\n",
       "</table>\n",
       "</div>"
      ],
      "text/plain": [
       "                       updated_at  chain_id   chain_name   \n",
       "0  2023-11-20T18:03:16.980284701Z        56  bsc-mainnet  \\\n",
       "\n",
       "                                               items pagination  \n",
       "0  [{'signed_at': '2020-08-29T03:24:09Z', 'height...       None  "
      ]
     },
     "execution_count": 107,
     "metadata": {},
     "output_type": "execute_result"
    }
   ],
   "source": [
    "data = parse_data['data']\n",
    "df_data = pd.json_normalize(data)\n",
    "df_data.head()"
   ]
  },
  {
   "cell_type": "markdown",
   "id": "69659f82-6d30-4fb9-bfd3-49eab18825de",
   "metadata": {
    "tags": []
   },
   "source": [
    "Let's print an specific column in 'data'"
   ]
  },
  {
   "cell_type": "code",
   "execution_count": 110,
   "id": "565fc6e2-e79e-43c5-8b8b-26c7bec0dc9c",
   "metadata": {
    "tags": []
   },
   "outputs": [
    {
     "data": {
      "text/plain": [
       "'2023-11-20T18:03:16.980284701Z'"
      ]
     },
     "execution_count": 110,
     "metadata": {},
     "output_type": "execute_result"
    }
   ],
   "source": [
    "updated_at = parse_data['data']['updated_at'] \n",
    "updated_at"
   ]
  },
  {
   "cell_type": "markdown",
   "id": "2195456a-3b0d-400d-89a4-49425f79a12f",
   "metadata": {},
   "source": [
    "Let's check inside the 'items' and  the columns in items, updated_at and signed_at"
   ]
  },
  {
   "cell_type": "code",
   "execution_count": 112,
   "id": "8a1dd3e2-fe89-40b9-be68-0d9f10efd1bc",
   "metadata": {
    "tags": []
   },
   "outputs": [
    {
     "data": {
      "text/plain": [
       "{'signed_at': '2020-08-29T03:24:09Z', 'height': 1}"
      ]
     },
     "execution_count": 112,
     "metadata": {},
     "output_type": "execute_result"
    }
   ],
   "source": [
    "items = parse_data['data']['items'][0]\n",
    "items"
   ]
  },
  {
   "cell_type": "code",
   "execution_count": 84,
   "id": "0ef57af7-938c-4340-9a11-e474ec1fe841",
   "metadata": {
    "tags": []
   },
   "outputs": [
    {
     "name": "stdout",
     "output_type": "stream",
     "text": [
      "2020-08-29T03:24:09Z\n"
     ]
    }
   ],
   "source": [
    "#Signed_at column inside Items\n",
    "print(parse_data['data']['items'][0]['signed_at'])"
   ]
  },
  {
   "cell_type": "code",
   "execution_count": 85,
   "id": "1d57e739-8337-4069-9a94-452f7ae8c5ad",
   "metadata": {
    "tags": []
   },
   "outputs": [
    {
     "name": "stdout",
     "output_type": "stream",
     "text": [
      "1\n"
     ]
    }
   ],
   "source": [
    "#height column inside Items\n",
    "print(parse_data['data']['items'][0]['height'])"
   ]
  },
  {
   "cell_type": "code",
   "execution_count": 113,
   "id": "8eb7ed7d-3003-4566-b7f9-037357df8152",
   "metadata": {
    "tags": []
   },
   "outputs": [
    {
     "data": {
      "text/html": [
       "<div>\n",
       "<style scoped>\n",
       "    .dataframe tbody tr th:only-of-type {\n",
       "        vertical-align: middle;\n",
       "    }\n",
       "\n",
       "    .dataframe tbody tr th {\n",
       "        vertical-align: top;\n",
       "    }\n",
       "\n",
       "    .dataframe thead th {\n",
       "        text-align: right;\n",
       "    }\n",
       "</style>\n",
       "<table border=\"1\" class=\"dataframe\">\n",
       "  <thead>\n",
       "    <tr style=\"text-align: right;\">\n",
       "      <th></th>\n",
       "      <th>signed_at</th>\n",
       "      <th>height</th>\n",
       "    </tr>\n",
       "  </thead>\n",
       "  <tbody>\n",
       "    <tr>\n",
       "      <th>0</th>\n",
       "      <td>2020-08-29T03:24:09Z</td>\n",
       "      <td>1</td>\n",
       "    </tr>\n",
       "  </tbody>\n",
       "</table>\n",
       "</div>"
      ],
      "text/plain": [
       "              signed_at  height\n",
       "0  2020-08-29T03:24:09Z       1"
      ]
     },
     "execution_count": 113,
     "metadata": {},
     "output_type": "execute_result"
    }
   ],
   "source": [
    "# Flatten the nested items JSON structure\n",
    "items = parse_data['data']['items'][0]\n",
    "df_items = pd.json_normalize(items)\n",
    "df_items.head()"
   ]
  },
  {
   "cell_type": "markdown",
   "id": "8581e8eb-b470-467f-8516-b8997e009785",
   "metadata": {},
   "source": [
    "Finally I wanted to make a data frame with the columns \"chain name\", and the columns inside \"items\""
   ]
  },
  {
   "cell_type": "code",
   "execution_count": 114,
   "id": "cf432f8a-a9ce-4917-9f92-9ee0e99b557a",
   "metadata": {
    "tags": []
   },
   "outputs": [
    {
     "data": {
      "text/html": [
       "<div>\n",
       "<style scoped>\n",
       "    .dataframe tbody tr th:only-of-type {\n",
       "        vertical-align: middle;\n",
       "    }\n",
       "\n",
       "    .dataframe tbody tr th {\n",
       "        vertical-align: top;\n",
       "    }\n",
       "\n",
       "    .dataframe thead th {\n",
       "        text-align: right;\n",
       "    }\n",
       "</style>\n",
       "<table border=\"1\" class=\"dataframe\">\n",
       "  <thead>\n",
       "    <tr style=\"text-align: right;\">\n",
       "      <th></th>\n",
       "      <th>chain_name</th>\n",
       "      <th>signed_at</th>\n",
       "      <th>height</th>\n",
       "    </tr>\n",
       "  </thead>\n",
       "  <tbody>\n",
       "    <tr>\n",
       "      <th>0</th>\n",
       "      <td>bsc-mainnet</td>\n",
       "      <td>2020-08-29</td>\n",
       "      <td>1</td>\n",
       "    </tr>\n",
       "  </tbody>\n",
       "</table>\n",
       "</div>"
      ],
      "text/plain": [
       "    chain_name   signed_at  height\n",
       "0  bsc-mainnet  2020-08-29       1"
      ]
     },
     "execution_count": 114,
     "metadata": {},
     "output_type": "execute_result"
    }
   ],
   "source": [
    "# Extract relevant data\n",
    "chain_name = parse_data['data']['chain_name']\n",
    "signed_at = parse_data['data']['items'][0]['signed_at']\n",
    "height = parse_data['data']['items'][0]['height']\n",
    "\n",
    "# Convert the string timestamp to a datetime object\n",
    "# signed_at = datetime.strptime(signed_at, '%Y-%m-%dT%H:%M:%SZ')\n",
    "\n",
    "# Convert the string timestamp to a datetime object and extract the date\n",
    "signed_at = datetime.strptime(signed_at, '%Y-%m-%dT%H:%M:%SZ').date()\n",
    "\n",
    "# Create a DataFrame\n",
    "df = pd.DataFrame({'chain_name': [chain_name], 'signed_at': [signed_at], 'height': [height]})\n",
    "\n",
    "df.head()"
   ]
  },
  {
   "cell_type": "markdown",
   "id": "5f2f7fcc-4d0d-4ff7-aef7-3ac8ce505b21",
   "metadata": {
    "tags": []
   },
   "source": [
    "There is another way:"
   ]
  },
  {
   "cell_type": "code",
   "execution_count": 115,
   "id": "37242296-d10e-4def-b525-a68d0ac1182d",
   "metadata": {
    "tags": []
   },
   "outputs": [
    {
     "name": "stdout",
     "output_type": "stream",
     "text": [
      "              signed_at  height   chain_name\n",
      "0  2020-08-29T03:24:09Z       1  bsc-mainnet\n"
     ]
    }
   ],
   "source": [
    "df = pd.json_normalize(data, record_path=['items'], meta=['chain_name']) \n",
    "print(df)"
   ]
  }
 ],
 "metadata": {
  "kernelspec": {
   "display_name": "Python 3 (ipykernel)",
   "language": "python",
   "name": "python3"
  },
  "language_info": {
   "codemirror_mode": {
    "name": "ipython",
    "version": 3
   },
   "file_extension": ".py",
   "mimetype": "text/x-python",
   "name": "python",
   "nbconvert_exporter": "python",
   "pygments_lexer": "ipython3",
   "version": "3.11.1"
  }
 },
 "nbformat": 4,
 "nbformat_minor": 5
}
