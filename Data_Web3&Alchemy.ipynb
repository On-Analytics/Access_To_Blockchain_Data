{
 "cells": [
  {
   "cell_type": "markdown",
   "id": "7859ce64-aa62-4dc9-b368-a6bd0e9c0841",
   "metadata": {},
   "source": [
    "# Exploring Blockchain Data with Web3 and Alchemy"
   ]
  },
  {
   "cell_type": "markdown",
   "id": "900c1d59-ed45-4369-a6ad-894404741814",
   "metadata": {
    "tags": []
   },
   "source": [
    "- Last Update: 21/11/2023\n",
    "- Blockchain: Ethereum.\n",
    "- Library:[Web3 Library](https://web3js.org/)\n",
    "- API: [Alchemy](https://docs.alchemy.com/reference)"
   ]
  },
  {
   "cell_type": "markdown",
   "id": "f02b3bbc-18a3-4a5e-a021-ba1fb02b5c1b",
   "metadata": {
    "tags": []
   },
   "source": [
    "- Author: Oscar Q - Founder OnAnalytics\n",
    "- [Linkedin](https://www.linkedin.com/in/oscarquirogap/)\n",
    "- [WebPage](http://onanalytics.co/)\n",
    "- [GitHub](https://github.com/On-Analytics/Access_To_Blockchain_Data.git)"
   ]
  },
  {
   "cell_type": "markdown",
   "id": "b3191885-84ff-4ac0-8a3e-343ce4d01e92",
   "metadata": {},
   "source": [
    "## Introduction"
   ]
  },
  {
   "cell_type": "markdown",
   "id": "0581c9fd-04b3-464f-8b07-b390c240a318",
   "metadata": {},
   "source": [
    "Welcome to our tutorial on utilizing the Web3 library to access and retrieve data from the blockchain. Whether you're a developer, a blockchain enthusiast, or someone just curious about the technology, this guide will walk you through the basics of interacting with the Ethereum blockchain using the Web3 library.\n",
    "\n",
    "[Web3](https://web3js.org/) is a Python library that enables interaction with the Ethereum blockchain. It serves as a bridge between your Python scripts and the Ethereum network, allowing you to query information, send transactions, and perform various operations on the blockchain.\n",
    "\n",
    "[Alchemy](https://docs.alchemy.com/reference), on the other hand, is a powerful infrastructure provider for blockchain developers. Leveraging Alchemy's API can enhance your Web3 experience by providing reliable and scalable access to the Ethereum network."
   ]
  },
  {
   "cell_type": "markdown",
   "id": "b7aa8535-1aaf-4e61-8714-8881821401bb",
   "metadata": {},
   "source": [
    "## Setting Up"
   ]
  },
  {
   "cell_type": "markdown",
   "id": "2b6fb075-90b4-4ce3-870c-13e6a63d0d69",
   "metadata": {
    "tags": []
   },
   "source": [
    "**Instalations**"
   ]
  },
  {
   "cell_type": "code",
   "execution_count": 85,
   "id": "105e1a9a-db3e-45c8-9643-ceb532b55582",
   "metadata": {
    "tags": []
   },
   "outputs": [],
   "source": [
    "# Run in your terminal before installing Web3 librar.  Be sure you have the latest version \n",
    "# python --version"
   ]
  },
  {
   "cell_type": "code",
   "execution_count": null,
   "id": "84ca04fb-6063-4da4-ad2b-ccfe81fcc534",
   "metadata": {
    "tags": []
   },
   "outputs": [],
   "source": [
    "!pip install web3\n",
    "!python -m pip install requests"
   ]
  },
  {
   "cell_type": "markdown",
   "id": "4f3f7e6d-ac9a-423b-b418-60f2e973599d",
   "metadata": {
    "tags": []
   },
   "source": [
    "**Libraries**"
   ]
  },
  {
   "cell_type": "code",
   "execution_count": 87,
   "id": "b0394168-da49-43df-847a-8d1354ded1df",
   "metadata": {
    "tags": []
   },
   "outputs": [],
   "source": [
    "# main.py\n",
    "from web3 import Web3\n",
    "import requests\n",
    "import pandas as pd\n",
    "import json\n",
    "import os\n",
    "import dotenv\n",
    "from dotenv import load_dotenv"
   ]
  },
  {
   "cell_type": "markdown",
   "id": "86852d45-7e66-4d3d-b668-781bc3a96777",
   "metadata": {},
   "source": [
    "**Enviorement Setup**"
   ]
  },
  {
   "cell_type": "code",
   "execution_count": 88,
   "id": "dc426810-b0a9-47e3-9426-3dfc8fc4baec",
   "metadata": {
    "tags": []
   },
   "outputs": [],
   "source": [
    "# If you need, change the current working directory where .env file lives.\n",
    "os.chdir(\"/Users/Oscar/Documents/Python/Alchemy\")"
   ]
  },
  {
   "cell_type": "code",
   "execution_count": 89,
   "id": "f5033214-fc98-4f39-b6c4-86b39e7b53c0",
   "metadata": {
    "tags": []
   },
   "outputs": [
    {
     "data": {
      "text/plain": [
       "True"
      ]
     },
     "execution_count": 89,
     "metadata": {},
     "output_type": "execute_result"
    }
   ],
   "source": [
    "# load environment variables from .env\n",
    "dotenv.load_dotenv(\".env\")"
   ]
  },
  {
   "cell_type": "code",
   "execution_count": 90,
   "id": "6c223f87-4308-4c6e-b8a0-82fcf959d6e7",
   "metadata": {
    "tags": []
   },
   "outputs": [],
   "source": [
    "# Get the API key from the environment variable\n",
    "api_key = os.getenv(\"API_KEY\")"
   ]
  },
  {
   "cell_type": "markdown",
   "id": "373ce67f-cceb-4d23-a698-48c81d1785f8",
   "metadata": {},
   "source": [
    "**Connecting to a hosted node**"
   ]
  },
  {
   "cell_type": "markdown",
   "id": "174e9501-0ca7-40d9-910a-826f98cc33ce",
   "metadata": {},
   "source": [
    "Connect to a hosted node to interact with the Ethereum blockchain. We will utilize a node created and hosted by Alchemy. For this part, you must first visit [Alchemy](https://www.alchemy.com/) to create an account and obtain your API key. This can also be achieved with other services, such as  [Infura](https://www.infura.io/)."
   ]
  },
  {
   "cell_type": "code",
   "execution_count": 91,
   "id": "3e93995d-ea59-451b-9418-90b562858bc5",
   "metadata": {
    "tags": []
   },
   "outputs": [
    {
     "name": "stdout",
     "output_type": "stream",
     "text": [
      "w3 is Connected\n"
     ]
    }
   ],
   "source": [
    "#Setup\n",
    "alchemy_url = f\"https://eth-mainnet.g.alchemy.com/v2/{api_key}\"\n",
    "w3 = Web3(Web3.HTTPProvider(alchemy_url))\n",
    "\n",
    "# Print if web3 is successfully connected\n",
    "print(\"w3 is Connected\")"
   ]
  },
  {
   "cell_type": "markdown",
   "id": "965c44b8-7b90-43fa-b6ec-045c3451acf3",
   "metadata": {},
   "source": [
    "## Retrieving Blockchain Data"
   ]
  },
  {
   "cell_type": "markdown",
   "id": "2bbb3de3-3d09-468a-b456-f6f73e616a33",
   "metadata": {
    "tags": []
   },
   "source": [
    "Format,  **https://<endpoint>.alchemy.com/v2/{api_key}**  Let´s practice with some endpoints.  You can find more information about the endpoint we use and many more in the [Alchemy Documentation](https://docs.alchemy.com/reference/chain-apis-overview)"
   ]
  },
  {
   "cell_type": "markdown",
   "id": "49f9ddc7-d334-4c15-a6ae-669c5fb19e49",
   "metadata": {},
   "source": [
    "### Get the latest gas price"
   ]
  },
  {
   "cell_type": "code",
   "execution_count": 92,
   "id": "d0e41da1-0d8e-424b-903c-fe82b322ba74",
   "metadata": {
    "tags": []
   },
   "outputs": [
    {
     "name": "stdout",
     "output_type": "stream",
     "text": [
      "27284273176\n"
     ]
    }
   ],
   "source": [
    "gas_price = w3.eth.gas_price\n",
    "print(gas_price)"
   ]
  },
  {
   "cell_type": "markdown",
   "id": "fc8d553e-42d0-4d57-a92a-57012756c187",
   "metadata": {
    "tags": []
   },
   "source": [
    "### Get the latest block numer"
   ]
  },
  {
   "cell_type": "code",
   "execution_count": 93,
   "id": "7957d95a-c00a-4146-a032-904f528af26d",
   "metadata": {
    "tags": []
   },
   "outputs": [
    {
     "name": "stdout",
     "output_type": "stream",
     "text": [
      "18624564\n"
     ]
    }
   ],
   "source": [
    "latest_block = w3.eth.block_number\n",
    "print(latest_block)"
   ]
  },
  {
   "cell_type": "markdown",
   "id": "30f493ed-2bbc-4d2d-96ba-3312ca987182",
   "metadata": {
    "tags": []
   },
   "source": [
    "### Get the balance of an account"
   ]
  },
  {
   "cell_type": "code",
   "execution_count": 94,
   "id": "e42d95db-ced0-4193-bcf3-9e10b4a2821b",
   "metadata": {
    "tags": []
   },
   "outputs": [
    {
     "name": "stdout",
     "output_type": "stream",
     "text": [
      "83542253905881158564248\n"
     ]
    }
   ],
   "source": [
    "balance = w3.eth.get_balance('0x742d35Cc6634C0532925a3b844Bc454e4438f44e')\n",
    "print(balance)"
   ]
  },
  {
   "cell_type": "markdown",
   "id": "9634e369-af44-4ece-9c00-edd019d34ee5",
   "metadata": {},
   "source": [
    "### Get the information of a transaction"
   ]
  },
  {
   "cell_type": "code",
   "execution_count": 95,
   "id": "ad440b14-3c84-4f66-be94-8622ec47957e",
   "metadata": {
    "tags": []
   },
   "outputs": [
    {
     "name": "stdout",
     "output_type": "stream",
     "text": [
      "AttributeDict({'blockHash': HexBytes('0x4e3a3754410177e6937ef1f84bba68ea139e8d1a2258c5f85db9f1cd715a1bdd'), 'blockNumber': 46147, 'hash': HexBytes('0x5c504ed432cb51138bcf09aa5e8a410dd4a1e204ef84bfed1be16dfba1b22060'), 'from': '0xA1E4380A3B1f749673E270229993eE55F35663b4', 'gas': 21000, 'gasPrice': 50000000000000, 'input': HexBytes('0x'), 'nonce': 0, 'r': HexBytes('0x88ff6cf0fefd94db46111149ae4bfc179e9b94721fffd821d38d16464b3f71d0'), 's': HexBytes('0x45e0aff800961cfce805daef7016b9b675c137a6a41a548f7b60a3484c06a33a'), 'to': '0x5DF9B87991262F6BA471F09758CDE1c0FC1De734', 'transactionIndex': 0, 'type': 0, 'v': 28, 'value': 31337})\n"
     ]
    }
   ],
   "source": [
    "tx = w3.eth.get_transaction('0x5c504ed432cb51138bcf09aa5e8a410dd4a1e204ef84bfed1be16dfba1b22060')\n",
    "print(tx)"
   ]
  },
  {
   "cell_type": "markdown",
   "id": "31e5059d-978a-4377-b1fb-46655f8ca492",
   "metadata": {},
   "source": [
    "### Get the number of transactions in a specific block"
   ]
  },
  {
   "cell_type": "code",
   "execution_count": 96,
   "id": "79554fae-7597-4386-a071-3ba30a7451ee",
   "metadata": {
    "tags": []
   },
   "outputs": [
    {
     "name": "stdout",
     "output_type": "stream",
     "text": [
      "318\n"
     ]
    }
   ],
   "source": [
    "block_transaction_count = w3.eth.get_block_transaction_count(18615849)\n",
    "print(block_transaction_count)"
   ]
  }
 ],
 "metadata": {
  "kernelspec": {
   "display_name": "Python 3 (ipykernel)",
   "language": "python",
   "name": "python3"
  },
  "language_info": {
   "codemirror_mode": {
    "name": "ipython",
    "version": 3
   },
   "file_extension": ".py",
   "mimetype": "text/x-python",
   "name": "python",
   "nbconvert_exporter": "python",
   "pygments_lexer": "ipython3",
   "version": "3.11.1"
  }
 },
 "nbformat": 4,
 "nbformat_minor": 5
}
